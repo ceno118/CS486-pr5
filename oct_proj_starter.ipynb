{
 "cells": [
  {
   "cell_type": "code",
   "execution_count": 4,
   "id": "dbd1ff4e",
   "metadata": {},
   "outputs": [],
   "source": [
    "# YOUR IMPORTS HERE\n",
    "import torch\n",
    "import numpy as np\n",
    "from torchvision import datasets, transforms\n",
    "from torch.utils.data import Dataset, DataLoader\n",
    "import torch.nn.functional as F"
   ]
  },
  {
   "cell_type": "code",
   "execution_count": 5,
   "id": "7becf9cf",
   "metadata": {},
   "outputs": [],
   "source": [
    "train_data = np.load('train_images.npy')\n",
    "train_labels = np.load('train_labels.npy')\n",
    "val_data = np.load('val_images.npy')\n",
    "val_labels = np.load('val_labels.npy')"
   ]
  },
  {
   "cell_type": "code",
   "execution_count": 6,
   "id": "8a514974",
   "metadata": {},
   "outputs": [],
   "source": [
    "# custom dataset object for dataloaders\n",
    "\n",
    "class My_Dataset(Dataset):\n",
    "    \n",
    "    def __init__(self, X_data, y_data):\n",
    "        self.X_data = X_data\n",
    "        self.y_data = y_data\n",
    "        \n",
    "    def __getitem__(self, index):\n",
    "        return self.X_data[index], int(self.y_data[index][0])\n",
    "        \n",
    "    def __len__ (self):\n",
    "        return len(self.X_data)\n",
    "\n",
    "train_data_for_loader = My_Dataset(torch.FloatTensor(train_data), train_labels)\n",
    "val_data_for_loader = My_Dataset(torch.FloatTensor(val_data), val_labels)\n",
    "\n",
    "train_loader = DataLoader(train_data_for_loader, batch_size = 100, shuffle = True)\n",
    "val_loader = DataLoader(val_data_for_loader, batch_size = len(val_data_for_loader), shuffle = False)"
   ]
  },
  {
   "cell_type": "code",
   "execution_count": 14,
   "id": "01c233df",
   "metadata": {},
   "outputs": [],
   "source": [
    "# define and instantiate model\n",
    "\n",
    "class Model(nn.Module):\n",
    "    # YOUR CODE HERE\n",
    "    pass\n",
    "\n",
    "model = Model()"
   ]
  },
  {
   "cell_type": "code",
   "execution_count": null,
   "id": "b03af65b",
   "metadata": {},
   "outputs": [],
   "source": [
    "# define and instantiate loss function & optimizer\n",
    "\n",
    "# YOUR CODE HERE"
   ]
  },
  {
   "cell_type": "code",
   "execution_count": null,
   "id": "1eb016fd",
   "metadata": {
    "scrolled": true
   },
   "outputs": [],
   "source": [
    "# train model\n",
    "\n",
    "# YOUR CODE HERE"
   ]
  },
  {
   "cell_type": "code",
   "execution_count": 7,
   "id": "9315fece",
   "metadata": {},
   "outputs": [
    {
     "ename": "NameError",
     "evalue": "name 'test_loader' is not defined",
     "output_type": "error",
     "traceback": [
      "\u001b[1;31m---------------------------------------------------------------------------\u001b[0m",
      "\u001b[1;31mNameError\u001b[0m                                 Traceback (most recent call last)",
      "\u001b[1;32m~\\AppData\\Local\\Temp\\ipykernel_26124\\3249622565.py\u001b[0m in \u001b[0;36m<module>\u001b[1;34m\u001b[0m\n\u001b[0;32m      4\u001b[0m \u001b[1;32mwith\u001b[0m \u001b[0mtorch\u001b[0m\u001b[1;33m.\u001b[0m\u001b[0mno_grad\u001b[0m\u001b[1;33m(\u001b[0m\u001b[1;33m)\u001b[0m\u001b[1;33m:\u001b[0m\u001b[1;33m\u001b[0m\u001b[1;33m\u001b[0m\u001b[0m\n\u001b[0;32m      5\u001b[0m     \u001b[0mcorrect\u001b[0m \u001b[1;33m=\u001b[0m \u001b[1;36m0\u001b[0m\u001b[1;33m\u001b[0m\u001b[1;33m\u001b[0m\u001b[0m\n\u001b[1;32m----> 6\u001b[1;33m     \u001b[1;32mfor\u001b[0m \u001b[0mX_test\u001b[0m\u001b[1;33m,\u001b[0m \u001b[0my_test\u001b[0m \u001b[1;32min\u001b[0m \u001b[0mtest_loader\u001b[0m\u001b[1;33m:\u001b[0m\u001b[1;33m\u001b[0m\u001b[1;33m\u001b[0m\u001b[0m\n\u001b[0m\u001b[0;32m      7\u001b[0m         \u001b[0my_pred\u001b[0m \u001b[1;33m=\u001b[0m \u001b[0mmodel\u001b[0m\u001b[1;33m(\u001b[0m\u001b[0mX_test\u001b[0m\u001b[1;33m.\u001b[0m\u001b[0mview\u001b[0m\u001b[1;33m(\u001b[0m\u001b[0mlen\u001b[0m\u001b[1;33m(\u001b[0m\u001b[0mX_test\u001b[0m\u001b[1;33m)\u001b[0m\u001b[1;33m,\u001b[0m \u001b[1;33m-\u001b[0m\u001b[1;36m1\u001b[0m\u001b[1;33m)\u001b[0m\u001b[1;33m)\u001b[0m\u001b[1;33m\u001b[0m\u001b[1;33m\u001b[0m\u001b[0m\n\u001b[0;32m      8\u001b[0m         \u001b[0mpredicted\u001b[0m \u001b[1;33m=\u001b[0m \u001b[0mtorch\u001b[0m\u001b[1;33m.\u001b[0m\u001b[0mmax\u001b[0m\u001b[1;33m(\u001b[0m\u001b[0my_pred\u001b[0m\u001b[1;33m,\u001b[0m \u001b[1;36m1\u001b[0m\u001b[1;33m)\u001b[0m\u001b[1;33m[\u001b[0m\u001b[1;36m1\u001b[0m\u001b[1;33m]\u001b[0m\u001b[1;33m\u001b[0m\u001b[1;33m\u001b[0m\u001b[0m\n",
      "\u001b[1;31mNameError\u001b[0m: name 'test_loader' is not defined"
     ]
    }
   ],
   "source": [
    "# check accuracy on entire test set\n",
    "\n",
    "# count correct predictions\n",
    "with torch.no_grad():\n",
    "    correct = 0\n",
    "    for X_test, y_test in test_loader:\n",
    "        y_pred = model(X_test.view(len(X_test), -1))\n",
    "        predicted = torch.max(y_pred, 1)[1]\n",
    "        correct += (predicted == y_test).sum()\n",
    "\n",
    "# calculate accuracy, print\n",
    "print(f' Accuracy: {correct.item() / len(test_data_for_loader)}')"
   ]
  },
  {
   "cell_type": "code",
   "execution_count": null,
   "id": "2ae28f92",
   "metadata": {},
   "outputs": [],
   "source": [
    "# FUNCTION TO SAVE PREDICTIONS TO CSV\n",
    "# call with trained model and DataLoader for test data\n",
    "# will save predictions to .csv in current directory\n",
    "def save_predictions(M, T):\n",
    "    with open('submission.csv', 'w') as out_file:\n",
    "        s = 'Id,Category\\n'\n",
    "        with torch.no_grad():\n",
    "            for X_test, y_test in T:\n",
    "                y_pred = model(X_test.view(len(X_test), -1))\n",
    "                predicted = torch.max(y_pred, 1)[1]\n",
    "                for i in range(len(predicted)):\n",
    "                    s += f'{i},{str(int(predicted[i]))}\\n'\n",
    "        s = s[:-1]\n",
    "        out_file.write(s)\n",
    "        \n",
    "save_predictions(model, test_loader)"
   ]
  }
 ],
 "metadata": {
  "kernelspec": {
   "display_name": "Python 3.9.13 ('base')",
   "language": "python",
   "name": "python3"
  },
  "language_info": {
   "codemirror_mode": {
    "name": "ipython",
    "version": 3
   },
   "file_extension": ".py",
   "mimetype": "text/x-python",
   "name": "python",
   "nbconvert_exporter": "python",
   "pygments_lexer": "ipython3",
   "version": "3.9.13"
  },
  "vscode": {
   "interpreter": {
    "hash": "8a14bc09ffa4e8b97993d40f484ca0b74204899cbc7e25a03c173e6582588eac"
   }
  }
 },
 "nbformat": 4,
 "nbformat_minor": 5
}
